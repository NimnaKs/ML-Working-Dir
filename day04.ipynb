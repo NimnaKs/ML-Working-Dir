{
 "cells": [
  {
   "cell_type": "markdown",
   "metadata": {},
   "source": [
    "#### **Q1 . Descending Order**"
   ]
  },
  {
   "cell_type": "code",
   "execution_count": 12,
   "metadata": {},
   "outputs": [
    {
     "name": "stdout",
     "output_type": "stream",
     "text": [
      "Ordered number list in decending order : []\n"
     ]
    }
   ],
   "source": [
    "def sorted_array_dsc(string_array):\n",
    "    try:\n",
    "        int_array = [int(i) for i in string_array.split()]\n",
    "        int_array= sorted(int_array)\n",
    "        return int_array[::-1]\n",
    "    except ValueError:\n",
    "        print(\"Invalid input! Please enter only numbers separated by spaces.\")\n",
    "        return []\n",
    "\n",
    "if __name__ == \"__main__\":\n",
    "   string_array = input(\"Enter a list of numbers separated by spaces: \")\n",
    "   sorted_array = sorted_array_dsc(string_array)\n",
    "   print(\"Ordered number list in decending order :\", sorted_array)\n"
   ]
  },
  {
   "cell_type": "markdown",
   "metadata": {},
   "source": [
    "#### **Numpy Library**"
   ]
  },
  {
   "cell_type": "markdown",
   "metadata": {},
   "source": [
    "**Creating Numpy Arrays**"
   ]
  },
  {
   "cell_type": "code",
   "execution_count": 15,
   "metadata": {},
   "outputs": [
    {
     "name": "stdout",
     "output_type": "stream",
     "text": [
      "Original List :  [1, 2, 3, 4, 5]\n",
      "Numpy array :  [1 2 3 4 5]\n"
     ]
    }
   ],
   "source": [
    "import numpy as np\n",
    "\n",
    "my_list = [1, 2, 3, 4, 5]\n",
    "print(\"Original List : \", my_list)\n",
    "\n",
    "# Convert the list to a numpy array\n",
    "numpy_array = np.array(my_list)\n",
    "print(\"Numpy array : \", numpy_array)"
   ]
  },
  {
   "cell_type": "markdown",
   "metadata": {},
   "source": [
    "**Built In Functions**"
   ]
  },
  {
   "cell_type": "code",
   "execution_count": 16,
   "metadata": {},
   "outputs": [
    {
     "name": "stdout",
     "output_type": "stream",
     "text": [
      "Zeros : \n",
      " [[0. 0. 0.]\n",
      " [0. 0. 0.]\n",
      " [0. 0. 0.]]\n"
     ]
    }
   ],
   "source": [
    "zeros = np.zeros((3, 3)) # Create a 3x3 matrix of zeros\n",
    "print(\"Zeros : \\n\", zeros)"
   ]
  },
  {
   "cell_type": "code",
   "execution_count": 17,
   "metadata": {},
   "outputs": [
    {
     "name": "stdout",
     "output_type": "stream",
     "text": [
      "Ones : \n",
      " [[1. 1. 1. 1.]\n",
      " [1. 1. 1. 1.]]\n"
     ]
    }
   ],
   "source": [
    "ones = np.ones((2, 4)) # Create a 2x4 matrix of ones\n",
    "print(\"Ones : \\n\", ones)    "
   ]
  },
  {
   "cell_type": "code",
   "execution_count": 18,
   "metadata": {},
   "outputs": [
    {
     "name": "stdout",
     "output_type": "stream",
     "text": [
      "Arange :  [0 1 2 3 4 5 6 7 8 9]\n"
     ]
    }
   ],
   "source": [
    "arange = np.arange(10) # Create a 1D array with values from 0 to 9\n",
    "print(\"Arange : \", arange)"
   ]
  },
  {
   "cell_type": "code",
   "execution_count": 19,
   "metadata": {},
   "outputs": [
    {
     "name": "stdout",
     "output_type": "stream",
     "text": [
      "Random :  [0.0112167  0.99776421]\n"
     ]
    }
   ],
   "source": [
    "random = np.random.rand(2) # Create a 1D array with random values\n",
    "print(\"Random : \", random) "
   ]
  },
  {
   "cell_type": "markdown",
   "metadata": {},
   "source": [
    "#### **Arithmatic Operators**"
   ]
  },
  {
   "cell_type": "markdown",
   "metadata": {},
   "source": [
    "**Array Operations**"
   ]
  },
  {
   "cell_type": "code",
   "execution_count": 20,
   "metadata": {},
   "outputs": [],
   "source": [
    "a = np.array([1, 2, 3])\n",
    "b = np.array([4, 5, 6])"
   ]
  },
  {
   "cell_type": "code",
   "execution_count": 21,
   "metadata": {},
   "outputs": [
    {
     "name": "stdout",
     "output_type": "stream",
     "text": [
      "Sum :  [5 7 9]\n",
      "Difference :  [-3 -3 -3]\n",
      "Product :  [ 4 10 18]\n",
      "Quotient :  [0.25 0.4  0.5 ]\n"
     ]
    }
   ],
   "source": [
    "sum = a + b\n",
    "print(\"Sum : \", sum)\n",
    "\n",
    "difference = a - b\n",
    "print(\"Difference : \", difference)\n",
    "\n",
    "product = a * b\n",
    "print(\"Product : \", product)\n",
    "\n",
    "quotient = a / b\n",
    "print(\"Quotient : \", quotient)"
   ]
  },
  {
   "cell_type": "markdown",
   "metadata": {},
   "source": [
    "**Matrix Multipication**"
   ]
  },
  {
   "cell_type": "code",
   "execution_count": 28,
   "metadata": {},
   "outputs": [],
   "source": [
    "matrix_a = np.array([[1, 2], [3, 4]])\n",
    "matrix_b = np.array([[5, 6], [7, 8]])"
   ]
  },
  {
   "cell_type": "code",
   "execution_count": 29,
   "metadata": {},
   "outputs": [
    {
     "name": "stdout",
     "output_type": "stream",
     "text": [
      "Matrix Product : \n",
      " [[19 22]\n",
      " [43 50]]\n"
     ]
    }
   ],
   "source": [
    "product = np.dot(matrix_a, matrix_b)\n",
    "print(\"Matrix Product : \\n\", product)"
   ]
  },
  {
   "cell_type": "markdown",
   "metadata": {},
   "source": [
    "**Array Indexing and Sicing**"
   ]
  },
  {
   "cell_type": "code",
   "execution_count": 33,
   "metadata": {},
   "outputs": [
    {
     "name": "stdout",
     "output_type": "stream",
     "text": [
      "Original Array :  [1 2 3 4 5]\n"
     ]
    }
   ],
   "source": [
    "array = np.array([1, 2, 3, 4, 5])\n",
    "print(\"Original Array : \", array)"
   ]
  },
  {
   "cell_type": "code",
   "execution_count": 34,
   "metadata": {},
   "outputs": [
    {
     "name": "stdout",
     "output_type": "stream",
     "text": [
      "Element at index 2 :  3\n",
      "Elements from index 1 to 4 :  [2 3 4]\n"
     ]
    }
   ],
   "source": [
    "print(\"Element at index 2 : \", array[2])\n",
    "print(\"Elements from index 1 to 4 : \", array[1:4])"
   ]
  },
  {
   "cell_type": "markdown",
   "metadata": {},
   "source": [
    "**Array Manipulation**"
   ]
  },
  {
   "cell_type": "code",
   "execution_count": 38,
   "metadata": {},
   "outputs": [
    {
     "name": "stdout",
     "output_type": "stream",
     "text": [
      "Reshaped Array :  [[1 2 3]\n",
      " [4 5 6]\n",
      " [7 8 9]]\n"
     ]
    }
   ],
   "source": [
    "array = np.array([1, 2, 3, 4, 5, 6, 7, 8, 9])\n",
    "reshaped_array = array.reshape(3, 3)\n",
    "print(\"Reshaped Array : \", reshaped_array)"
   ]
  },
  {
   "cell_type": "markdown",
   "metadata": {},
   "source": [
    "**Joinning Multiple Arrays Together**"
   ]
  },
  {
   "cell_type": "code",
   "execution_count": 39,
   "metadata": {},
   "outputs": [
    {
     "name": "stdout",
     "output_type": "stream",
     "text": [
      "Concatenated Array :  [1 2 3 4 5 6]\n"
     ]
    }
   ],
   "source": [
    "array1 = np.array([1,2,3])\n",
    "array2 = np.array([4,5,6])\n",
    "concatenated_array = np.concatenate((array1, array2))\n",
    "print(\"Concatenated Array : \", concatenated_array)"
   ]
  },
  {
   "cell_type": "markdown",
   "metadata": {},
   "source": [
    "**Random Number Generation**"
   ]
  },
  {
   "cell_type": "code",
   "execution_count": 41,
   "metadata": {},
   "outputs": [
    {
     "name": "stdout",
     "output_type": "stream",
     "text": [
      "Random Numbers :  [46 36 18 18 75]\n"
     ]
    }
   ],
   "source": [
    "random_numbers = np.random.randint(10, 101, 5)\n",
    "# Generate 5 random numbers from uniform distribution \n",
    "# with values between (10, 101)\n",
    "print(\"Random Numbers : \", random_numbers)"
   ]
  },
  {
   "cell_type": "markdown",
   "metadata": {},
   "source": [
    "**Q2 . Create a 1D Numpy array with values ranging from 10 to 50.Then,reverse the array.**"
   ]
  },
  {
   "cell_type": "code",
   "execution_count": 47,
   "metadata": {},
   "outputs": [
    {
     "name": "stdout",
     "output_type": "stream",
     "text": [
      "Array of numbers :  [11 12 13 14 15]\n",
      "Reversed Array :  [15 14 13 12 11]\n"
     ]
    }
   ],
   "source": [
    "import numpy as np\n",
    "\n",
    "def get_user_input():\n",
    "    array_input = input('Enter a list of numbers ranging from 10 to 50, separated by spaces : ')\n",
    "    return array_input\n",
    "\n",
    "def convert_to_int_array(array_input):\n",
    "    try:\n",
    "        int_array = np.array([int(i) for i in array_input.split()])\n",
    "        if np.any(int_array < 10) or np.any(int_array > 50):\n",
    "            print('Invalid input! Please enter only numbers ranging from 10 to 50.')\n",
    "            return []\n",
    "        print('Array of numbers : ', int_array)\n",
    "        return int_array\n",
    "    except ValueError:\n",
    "        print('Invalid input! Please enter only numbers separated by spaces.')\n",
    "\n",
    "def convert_to_numpy_array(int_array):\n",
    "    return np.array(int_array)\n",
    "\n",
    "def reverse_array(numpy_array):\n",
    "    return numpy_array[::-1]\n",
    "\n",
    "def main_menu(int_array):\n",
    "    if len(int_array) == 0:\n",
    "        ans = input('Do you want to add numbers again (y/n) : ')\n",
    "        if ans == 'y':\n",
    "            start()\n",
    "        else:\n",
    "            print('Exiting the program.')\n",
    "            return 0\n",
    "\n",
    "def start():\n",
    "    array_input = get_user_input()\n",
    "    int_array = convert_to_int_array(array_input)\n",
    "    numpy_array = convert_to_numpy_array(int_array)\n",
    "    ans = main_menu(int_array)\n",
    "    if ans == 0:\n",
    "        return\n",
    "    reversed_array = reverse_array(numpy_array)\n",
    "    print('Reversed Array : ', reversed_array)\n",
    "\n",
    "if __name__ == \"__main__\":\n",
    "    start()\n",
    "    \n",
    "\n"
   ]
  },
  {
   "cell_type": "markdown",
   "metadata": {},
   "source": [
    "**Q2 . Create a 1D Numpy array with values  from 1 to 12.Then,reshape it into a 3*4 matrix.**"
   ]
  },
  {
   "cell_type": "code",
   "execution_count": 48,
   "metadata": {},
   "outputs": [
    {
     "name": "stdout",
     "output_type": "stream",
     "text": [
      "Array of numbers :  [ 1  2  3  4  5  6  7  8  9 10 11 12]\n",
      "Reshaped Array : \n",
      " [[ 1  2  3  4]\n",
      " [ 5  6  7  8]\n",
      " [ 9 10 11 12]]\n"
     ]
    }
   ],
   "source": [
    "import numpy as np\n",
    "\n",
    "def get_user_input():\n",
    "    array_input = input('Enter 12 numbers with spaces : ')\n",
    "    return array_input\n",
    "\n",
    "def convert_to_int_array(array_input):\n",
    "    try:\n",
    "        int_array = np.array([int(i) for i in array_input.split()])\n",
    "        if len(int_array) != 12:\n",
    "            print('Invalid input! Please enter exactly 12 numbers.')\n",
    "            return []\n",
    "        print('Array of numbers : ', int_array)\n",
    "        return int_array\n",
    "    except ValueError:\n",
    "        print('Invalid input! Please enter only numbers separated by spaces.')\n",
    "\n",
    "def main_menu(int_array):\n",
    "    if len(int_array) == 0:\n",
    "        ans = input('Do you want to add numbers again (y/n) : ')\n",
    "        if ans == 'y':\n",
    "            start()\n",
    "        else:\n",
    "            print('Exiting the program.')\n",
    "            return 0\n",
    "        \n",
    "def reshape_array(int_array):\n",
    "    return int_array.reshape(3, 4)\n",
    "        \n",
    "def start():\n",
    "    array_input = get_user_input()\n",
    "    int_array = convert_to_int_array(array_input)\n",
    "    ans = main_menu(int_array)\n",
    "    if ans == 0:\n",
    "        return\n",
    "    reshaped_array = reshape_array(int_array)\n",
    "    print('Reshaped Array : \\n', reshaped_array)\n",
    "\n",
    "    \n",
    "if __name__ == \"__main__\":\n",
    "    start()"
   ]
  },
  {
   "cell_type": "markdown",
   "metadata": {},
   "source": [
    "**Q4** "
   ]
  },
  {
   "cell_type": "code",
   "execution_count": 57,
   "metadata": {},
   "outputs": [
    {
     "name": "stdout",
     "output_type": "stream",
     "text": [
      "1D Array :  [ 3  7  9 12 15]\n",
      "Elements greater than 10 :  12, 15\n"
     ]
    }
   ],
   "source": [
    "import numpy as np\n",
    "\n",
    "def create_1D():\n",
    "    array = np.array([3, 7, 9, 12, 15])\n",
    "    print('1D Array : ', array)\n",
    "    return array\n",
    "\n",
    "def extract_element(array):\n",
    "    print ('Elements greater than 10 : ',end=' ')\n",
    "    for i in range(len(array)):\n",
    "        if(array[i] > 10):\n",
    "            print(array[i], end=', ')\n",
    "    print('\\b\\b')\n",
    "\n",
    "def start():\n",
    "    array = create_1D()\n",
    "    extract_element(array)\n",
    "\n",
    "if __name__ == \"__main__\":\n",
    "    start()"
   ]
  },
  {
   "cell_type": "markdown",
   "metadata": {},
   "source": [
    "**Q5**"
   ]
  },
  {
   "cell_type": "code",
   "execution_count": 58,
   "metadata": {},
   "outputs": [
    {
     "name": "stdout",
     "output_type": "stream",
     "text": [
      "2D Array : \n",
      " [[1 2 3]\n",
      " [4 5 6]]\n",
      "Updated Array : \n",
      " [[11 12 13]\n",
      " [14 15 16]]\n"
     ]
    }
   ],
   "source": [
    "import numpy as np\n",
    "\n",
    "def create_2D():\n",
    "    array = np.array([[1, 2, 3], [4, 5, 6]])\n",
    "    print('2D Array : \\n', array)\n",
    "    return array\n",
    "\n",
    "def add_10_to_val(array):\n",
    "    array += 10\n",
    "    print('Updated Array : \\n', array)\n",
    "\n",
    "def start():\n",
    "    array = create_2D()\n",
    "    add_10_to_val(array)\n",
    "\n",
    "if __name__ == \"__main__\":\n",
    "    start()"
   ]
  },
  {
   "cell_type": "markdown",
   "metadata": {},
   "source": [
    "### **Pandas**"
   ]
  },
  {
   "cell_type": "code",
   "execution_count": 1,
   "metadata": {},
   "outputs": [],
   "source": [
    "import pandas as pd"
   ]
  },
  {
   "cell_type": "markdown",
   "metadata": {},
   "source": [
    "**The Series Data Structure**"
   ]
  },
  {
   "cell_type": "code",
   "execution_count": 9,
   "metadata": {},
   "outputs": [],
   "source": [
    "data = {'a': 1, 'b': 2, 'c': 3, 'd': 4, 'e': 5}"
   ]
  },
  {
   "cell_type": "code",
   "execution_count": 10,
   "metadata": {},
   "outputs": [
    {
     "name": "stdout",
     "output_type": "stream",
     "text": [
      "a    1\n",
      "b    2\n",
      "c    3\n",
      "d    4\n",
      "e    5\n",
      "dtype: int64\n"
     ]
    }
   ],
   "source": [
    "series = pd.Series(data)\n",
    "print(series)"
   ]
  },
  {
   "cell_type": "markdown",
   "metadata": {},
   "source": [
    "**The DataFrame Data Structure**"
   ]
  },
  {
   "cell_type": "code",
   "execution_count": 13,
   "metadata": {},
   "outputs": [],
   "source": [
    "data = {'Name': ['John', 'Anna', 'Peter', 'Linda'],\n",
    "        'Location': ['New York', 'Paris', 'Berlin', 'London'],\n",
    "        'Age': [24, 13, 53, 33]\n",
    "        }"
   ]
  },
  {
   "cell_type": "code",
   "execution_count": 14,
   "metadata": {},
   "outputs": [
    {
     "name": "stdout",
     "output_type": "stream",
     "text": [
      "    Name  Location  Age\n",
      "0   John  New York   24\n",
      "1   Anna     Paris   13\n",
      "2  Peter    Berlin   53\n",
      "3  Linda    London   33\n"
     ]
    }
   ],
   "source": [
    "data_frame = pd.DataFrame(data)\n",
    "print(data_frame)"
   ]
  },
  {
   "cell_type": "markdown",
   "metadata": {},
   "source": [
    "**Data Loading and Handeling**"
   ]
  },
  {
   "cell_type": "markdown",
   "metadata": {},
   "source": [
    "**Reading Data**"
   ]
  },
  {
   "cell_type": "code",
   "execution_count": null,
   "metadata": {},
   "outputs": [],
   "source": [
    "pd.read_csv()\n",
    "pd.read_excel()\n",
    "pd.read_sql()"
   ]
  },
  {
   "cell_type": "code",
   "execution_count": 18,
   "metadata": {},
   "outputs": [],
   "source": [
    "import pandas as pd\n",
    "df = pd.read_csv('hypertension_dataset.csv')"
   ]
  },
  {
   "cell_type": "code",
   "execution_count": null,
   "metadata": {},
   "outputs": [
    {
     "name": "stdout",
     "output_type": "stream",
     "text": [
      "       Country  Age   BMI  Cholesterol  Systolic_BP  Diastolic_BP  \\\n",
      "0           UK   58  29.5          230          160            79   \n",
      "1        Spain   34  36.2          201          120            84   \n",
      "2    Indonesia   73  18.2          173          156            60   \n",
      "3       Canada   60  20.3          183          122            94   \n",
      "4       France   73  21.8          296           91            97   \n",
      "5           UK   44  31.5          293          158           118   \n",
      "6  South Korea   88  30.9          263          118            62   \n",
      "7       Canada   25  18.1          151          175           101   \n",
      "8       Canada   89  19.0          198          102           104   \n",
      "9       Brazil   33  39.1          268          168            98   \n",
      "\n",
      "  Smoking_Status  Alcohol_Intake Physical_Activity_Level Family_History  ...  \\\n",
      "0          Never            27.9                     Low            Yes  ...   \n",
      "1          Never            27.5                    High            Yes  ...   \n",
      "2        Current             1.8                    High            Yes  ...   \n",
      "3          Never            11.6                Moderate            Yes  ...   \n",
      "4          Never            29.1                Moderate            Yes  ...   \n",
      "5         Former            20.3                Moderate             No  ...   \n",
      "6        Current             8.6                     Low            Yes  ...   \n",
      "7          Never            16.6                     Low            Yes  ...   \n",
      "8         Former            10.5                     Low            Yes  ...   \n",
      "9        Current            20.7                Moderate             No  ...   \n",
      "\n",
      "  Sleep_Duration  Heart_Rate  LDL  HDL  Triglycerides  Glucose  Gender  \\\n",
      "0            6.1          80  100   75             72      179  Female   \n",
      "1            9.8          56   77   47             90      113    Male   \n",
      "2            5.2          75  162   56             81      101    Male   \n",
      "3            7.5          71  164   93             94      199  Female   \n",
      "4            5.0          52  108   74            226      157  Female   \n",
      "5            8.1          98   81   69            181       85    Male   \n",
      "6            4.0          88  114   52            139      194    Male   \n",
      "7            5.8          99  154   34            132      193  Female   \n",
      "8            6.6          56  157   81            145      161  Female   \n",
      "9            8.0          76   89   37            223      164    Male   \n",
      "\n",
      "   Education_Level  Employment_Status Hypertension  \n",
      "0          Primary         Unemployed         High  \n",
      "1        Secondary         Unemployed         High  \n",
      "2          Primary           Employed          Low  \n",
      "3        Secondary            Retired         High  \n",
      "4          Primary           Employed         High  \n",
      "5         Tertiary           Employed         High  \n",
      "6        Secondary           Employed          Low  \n",
      "7        Secondary           Employed         High  \n",
      "8          Primary            Retired          Low  \n",
      "9          Primary            Retired         High  \n",
      "\n",
      "[10 rows x 23 columns]\n"
     ]
    }
   ],
   "source": [
    "print(df.head(10)) # Display the first 10 rows of the dataframe"
   ]
  },
  {
   "cell_type": "code",
   "execution_count": null,
   "metadata": {},
   "outputs": [
    {
     "name": "stdout",
     "output_type": "stream",
     "text": [
      "             Country  Age   BMI  Cholesterol  Systolic_BP  Diastolic_BP  \\\n",
      "174972  South Africa   34  37.1          260          137            68   \n",
      "174973           USA   68  23.0          182          126            66   \n",
      "174974     Argentina   48  26.8          178          104            98   \n",
      "174975         Japan   66  34.0          179          151            68   \n",
      "174976        Mexico   24  31.5          160          112           110   \n",
      "174977         India   51  39.4          266          174            82   \n",
      "174978     Australia   89  39.0          243          104            94   \n",
      "174979         India   43  36.5          266          109            98   \n",
      "174980       Germany   48  18.3          294          134            84   \n",
      "174981     Argentina   27  22.6          205          111            96   \n",
      "\n",
      "       Smoking_Status  Alcohol_Intake Physical_Activity_Level Family_History  \\\n",
      "174972        Current            17.6                     Low             No   \n",
      "174973        Current            28.1                    High             No   \n",
      "174974         Former            22.3                Moderate            Yes   \n",
      "174975        Current             5.0                Moderate             No   \n",
      "174976         Former            19.3                     Low            Yes   \n",
      "174977          Never            10.3                     Low            Yes   \n",
      "174978          Never             7.2                Moderate            Yes   \n",
      "174979         Former            22.9                     Low            Yes   \n",
      "174980          Never            15.3                    High             No   \n",
      "174981         Former            27.4                Moderate             No   \n",
      "\n",
      "        ... Sleep_Duration  Heart_Rate  LDL  HDL  Triglycerides  Glucose  \\\n",
      "174972  ...            7.2          75  168   34            169      134   \n",
      "174973  ...            5.4          79   93   87            212      189   \n",
      "174974  ...            6.8          64   94   46            108      193   \n",
      "174975  ...            8.8          64  120   56             83      160   \n",
      "174976  ...            5.3          69  143   97            134      144   \n",
      "174977  ...            9.5          96  172   72            100       95   \n",
      "174978  ...            6.2          63   81   66            140      124   \n",
      "174979  ...           10.0          62  139   39             93       71   \n",
      "174980  ...            4.7          53  112   37             57       87   \n",
      "174981  ...            5.1          69  180   54            124       89   \n",
      "\n",
      "        Gender  Education_Level  Employment_Status Hypertension  \n",
      "174972    Male        Secondary            Retired         High  \n",
      "174973    Male        Secondary            Retired         High  \n",
      "174974  Female          Primary            Retired         High  \n",
      "174975    Male        Secondary         Unemployed         High  \n",
      "174976    Male          Primary            Retired         High  \n",
      "174977  Female         Tertiary           Employed          Low  \n",
      "174978  Female          Primary           Employed         High  \n",
      "174979    Male        Secondary           Employed         High  \n",
      "174980    Male          Primary            Retired         High  \n",
      "174981  Female         Tertiary            Retired         High  \n",
      "\n",
      "[10 rows x 23 columns]\n"
     ]
    }
   ],
   "source": [
    "print(df.tail(10)) # Display the last 10 rows of the dataframe"
   ]
  },
  {
   "cell_type": "code",
   "execution_count": 23,
   "metadata": {},
   "outputs": [
    {
     "name": "stdout",
     "output_type": "stream",
     "text": [
      "<class 'pandas.core.frame.DataFrame'>\n",
      "RangeIndex: 174982 entries, 0 to 174981\n",
      "Data columns (total 23 columns):\n",
      " #   Column                   Non-Null Count   Dtype  \n",
      "---  ------                   --------------   -----  \n",
      " 0   Country                  174982 non-null  object \n",
      " 1   Age                      174982 non-null  int64  \n",
      " 2   BMI                      174982 non-null  float64\n",
      " 3   Cholesterol              174982 non-null  int64  \n",
      " 4   Systolic_BP              174982 non-null  int64  \n",
      " 5   Diastolic_BP             174982 non-null  int64  \n",
      " 6   Smoking_Status           174982 non-null  object \n",
      " 7   Alcohol_Intake           174982 non-null  float64\n",
      " 8   Physical_Activity_Level  174982 non-null  object \n",
      " 9   Family_History           174982 non-null  object \n",
      " 10  Diabetes                 174982 non-null  object \n",
      " 11  Stress_Level             174982 non-null  int64  \n",
      " 12  Salt_Intake              174982 non-null  float64\n",
      " 13  Sleep_Duration           174982 non-null  float64\n",
      " 14  Heart_Rate               174982 non-null  int64  \n",
      " 15  LDL                      174982 non-null  int64  \n",
      " 16  HDL                      174982 non-null  int64  \n",
      " 17  Triglycerides            174982 non-null  int64  \n",
      " 18  Glucose                  174982 non-null  int64  \n",
      " 19  Gender                   174982 non-null  object \n",
      " 20  Education_Level          174982 non-null  object \n",
      " 21  Employment_Status        174982 non-null  object \n",
      " 22  Hypertension             174982 non-null  object \n",
      "dtypes: float64(4), int64(10), object(9)\n",
      "memory usage: 30.7+ MB\n",
      "None\n"
     ]
    }
   ],
   "source": [
    "print(df.info()) # Display information about the dataframe"
   ]
  },
  {
   "cell_type": "code",
   "execution_count": 25,
   "metadata": {},
   "outputs": [
    {
     "name": "stdout",
     "output_type": "stream",
     "text": [
      "(174982, 23)\n"
     ]
    }
   ],
   "source": [
    "print(df.shape) # Display the shape of the dataframe - (rows, columns)"
   ]
  },
  {
   "cell_type": "code",
   "execution_count": 26,
   "metadata": {},
   "outputs": [
    {
     "name": "stdout",
     "output_type": "stream",
     "text": [
      "Index(['Country', 'Age', 'BMI', 'Cholesterol', 'Systolic_BP', 'Diastolic_BP',\n",
      "       'Smoking_Status', 'Alcohol_Intake', 'Physical_Activity_Level',\n",
      "       'Family_History', 'Diabetes', 'Stress_Level', 'Salt_Intake',\n",
      "       'Sleep_Duration', 'Heart_Rate', 'LDL', 'HDL', 'Triglycerides',\n",
      "       'Glucose', 'Gender', 'Education_Level', 'Employment_Status',\n",
      "       'Hypertension'],\n",
      "      dtype='object')\n"
     ]
    }
   ],
   "source": [
    "print(df.columns) # Display the column names of the dataframe"
   ]
  },
  {
   "cell_type": "code",
   "execution_count": 27,
   "metadata": {},
   "outputs": [
    {
     "name": "stdout",
     "output_type": "stream",
     "text": [
      "RangeIndex(start=0, stop=174982, step=1)\n"
     ]
    }
   ],
   "source": [
    "print(df.index) # Display the index of the dataframe"
   ]
  },
  {
   "cell_type": "code",
   "execution_count": 28,
   "metadata": {},
   "outputs": [
    {
     "name": "stdout",
     "output_type": "stream",
     "text": [
      "Country                     object\n",
      "Age                          int64\n",
      "BMI                        float64\n",
      "Cholesterol                  int64\n",
      "Systolic_BP                  int64\n",
      "Diastolic_BP                 int64\n",
      "Smoking_Status              object\n",
      "Alcohol_Intake             float64\n",
      "Physical_Activity_Level     object\n",
      "Family_History              object\n",
      "Diabetes                    object\n",
      "Stress_Level                 int64\n",
      "Salt_Intake                float64\n",
      "Sleep_Duration             float64\n",
      "Heart_Rate                   int64\n",
      "LDL                          int64\n",
      "HDL                          int64\n",
      "Triglycerides                int64\n",
      "Glucose                      int64\n",
      "Gender                      object\n",
      "Education_Level             object\n",
      "Employment_Status           object\n",
      "Hypertension                object\n",
      "dtype: object\n"
     ]
    }
   ],
   "source": [
    "print(df.dtypes) # Display the data types of the columns in the dataframe"
   ]
  },
  {
   "cell_type": "code",
   "execution_count": 29,
   "metadata": {},
   "outputs": [
    {
     "name": "stdout",
     "output_type": "stream",
     "text": [
      "                 Age            BMI    Cholesterol    Systolic_BP  \\\n",
      "count  174982.000000  174982.000000  174982.000000  174982.000000   \n",
      "mean       53.493319      27.494672     224.539335     134.505229   \n",
      "std        20.786353       7.213866      43.361589      26.019268   \n",
      "min        18.000000      15.000000     150.000000      90.000000   \n",
      "25%        36.000000      21.200000     187.000000     112.000000   \n",
      "50%        54.000000      27.500000     225.000000     135.000000   \n",
      "75%        71.000000      33.700000     262.000000     157.000000   \n",
      "max        89.000000      40.000000     299.000000     179.000000   \n",
      "\n",
      "        Diastolic_BP  Alcohol_Intake   Stress_Level    Salt_Intake  \\\n",
      "count  174982.000000   174982.000000  174982.000000  174982.000000   \n",
      "mean       89.450315       14.991069       5.013041       8.482757   \n",
      "std        17.310789        8.652624       2.582341       3.750074   \n",
      "min        60.000000        0.000000       1.000000       2.000000   \n",
      "25%        74.000000        7.500000       3.000000       5.200000   \n",
      "50%        89.000000       15.000000       5.000000       8.500000   \n",
      "75%       104.000000       22.500000       7.000000      11.700000   \n",
      "max       119.000000       30.000000       9.000000      15.000000   \n",
      "\n",
      "       Sleep_Duration     Heart_Rate            LDL            HDL  \\\n",
      "count   174982.000000  174982.000000  174982.000000  174982.000000   \n",
      "mean         6.996468      74.495085     129.528271      64.573105   \n",
      "std          1.730731      14.438573      34.635795      20.190666   \n",
      "min          4.000000      50.000000      70.000000      30.000000   \n",
      "25%          5.500000      62.000000     100.000000      47.000000   \n",
      "50%          7.000000      74.000000     130.000000      65.000000   \n",
      "75%          8.500000      87.000000     160.000000      82.000000   \n",
      "max         10.000000      99.000000     189.000000      99.000000   \n",
      "\n",
      "       Triglycerides        Glucose  \n",
      "count  174982.000000  174982.000000  \n",
      "mean      149.569836     134.488187  \n",
      "std        57.765006      37.526882  \n",
      "min        50.000000      70.000000  \n",
      "25%       100.000000     102.000000  \n",
      "50%       150.000000     134.000000  \n",
      "75%       200.000000     167.000000  \n",
      "max       249.000000     199.000000  \n"
     ]
    }
   ],
   "source": [
    "print(df.describe()) # Display summary statistics of the dataframe"
   ]
  },
  {
   "cell_type": "markdown",
   "metadata": {},
   "source": [
    "**Q6**"
   ]
  },
  {
   "cell_type": "code",
   "execution_count": 34,
   "metadata": {},
   "outputs": [
    {
     "name": "stdout",
     "output_type": "stream",
     "text": [
      "     Name  Age Gender\n",
      "0   Alice   25      F\n",
      "1     Bob   30      M\n",
      "2  Claire   35      F\n",
      "     Name  Age Gender\n",
      "0   Alice   25      F\n",
      "1     Bob   30      M\n",
      "2  Claire   35      F\n",
      "     Name  Age Gender\n",
      "0   Alice   25      F\n",
      "1     Bob   30      M\n",
      "2  Claire   35      F\n",
      "<class 'pandas.core.frame.DataFrame'>\n",
      "RangeIndex: 3 entries, 0 to 2\n",
      "Data columns (total 3 columns):\n",
      " #   Column  Non-Null Count  Dtype \n",
      "---  ------  --------------  ----- \n",
      " 0   Name    3 non-null      object\n",
      " 1   Age     3 non-null      int64 \n",
      " 2   Gender  3 non-null      object\n",
      "dtypes: int64(1), object(2)\n",
      "memory usage: 204.0+ bytes\n",
      "None\n",
      "(3, 3)\n",
      "Index(['Name', 'Age', 'Gender'], dtype='object')\n",
      "RangeIndex(start=0, stop=3, step=1)\n",
      "Name      object\n",
      "Age        int64\n",
      "Gender    object\n",
      "dtype: object\n",
      "        Age\n",
      "count   3.0\n",
      "mean   30.0\n",
      "std     5.0\n",
      "min    25.0\n",
      "25%    27.5\n",
      "50%    30.0\n",
      "75%    32.5\n",
      "max    35.0\n"
     ]
    }
   ],
   "source": [
    "data = {\n",
    "    'Name': ['Alice', 'Bob', 'Claire'],\n",
    "    'Age': [25, 30, 35],\n",
    "    'Gender': ['F', 'M', 'F']\n",
    "}\n",
    "df = pd.DataFrame(data)\n",
    "print(df)\n",
    "\n",
    "print(df.head())\n",
    "print(df.tail(10))\n",
    "print(df.info())\n",
    "print(df.shape)\n",
    "print(df.columns)\n",
    "print(df.index)\n",
    "print(df.dtypes)\n",
    "print(df.describe())"
   ]
  },
  {
   "cell_type": "code",
   "execution_count": 38,
   "metadata": {},
   "outputs": [
    {
     "name": "stdout",
     "output_type": "stream",
     "text": [
      "Shape of the dataframe :  (3, 3)\n"
     ]
    }
   ],
   "source": [
    "data = {\n",
    "    'Name': ['Alice', 'Bob', 'Claire'],\n",
    "    'Age': [25, 30, 28],\n",
    "    'Gender': ['Female', 'Male', 'Female']\n",
    "}\n",
    "df = pd.DataFrame(data)\n",
    "\n",
    "df_shape = df.shape\n",
    "print('Shape of the dataframe : ', df_shape)"
   ]
  },
  {
   "cell_type": "markdown",
   "metadata": {},
   "source": [
    "**From the DataFrame created above,filter and display rows where Age is greater than 25.**"
   ]
  },
  {
   "cell_type": "code",
   "execution_count": 39,
   "metadata": {},
   "outputs": [
    {
     "name": "stdout",
     "output_type": "stream",
     "text": [
      "Filtered Dataframe  : \n",
      "      Name  Age  Gender\n",
      "1     Bob   30    Male\n",
      "2  Claire   28  Female\n"
     ]
    }
   ],
   "source": [
    "filtered_df = df[df['Age'] > 25]\n",
    "print('Filtered Dataframe  : \\n', filtered_df)"
   ]
  },
  {
   "cell_type": "markdown",
   "metadata": {},
   "source": [
    "**Add a new coulmn salary to the DataFrame with values [50000,60000,55000]**"
   ]
  },
  {
   "cell_type": "code",
   "execution_count": 40,
   "metadata": {},
   "outputs": [
    {
     "name": "stdout",
     "output_type": "stream",
     "text": [
      "Updated Dataframe : \n",
      "      Name  Age  Gender  salary\n",
      "0   Alice   25  Female   50000\n",
      "1     Bob   30    Male   60000\n",
      "2  Claire   28  Female   55000\n"
     ]
    }
   ],
   "source": [
    "df['salary'] = [50000, 60000, 55000]\n",
    "print('Updated Dataframe : \\n', df)"
   ]
  },
  {
   "cell_type": "markdown",
   "metadata": {},
   "source": [
    "**Group the DataFrame by Gender and calculate the average Age for each gender**"
   ]
  },
  {
   "cell_type": "code",
   "execution_count": 42,
   "metadata": {},
   "outputs": [
    {
     "name": "stdout",
     "output_type": "stream",
     "text": [
      "Mean Age of people group by gender : \n",
      "Gender\n",
      "Female    26.5\n",
      "Male      30.0\n",
      "Name: Age, dtype: float64\n"
     ]
    }
   ],
   "source": [
    "grouped_data = df.groupby('Gender')['Age'].mean()\n",
    "print('Mean Age of people group by gender : ')\n",
    "print(grouped_data)"
   ]
  },
  {
   "cell_type": "markdown",
   "metadata": {},
   "source": [
    "**Sort the DataFrame by Salary in descending order**"
   ]
  },
  {
   "cell_type": "code",
   "execution_count": 47,
   "metadata": {},
   "outputs": [
    {
     "name": "stdout",
     "output_type": "stream",
     "text": [
      "Sorted Dataframe : \n",
      "      Name  Age  Gender  salary\n",
      "1     Bob   30    Male   60000\n",
      "2  Claire   28  Female   55000\n",
      "0   Alice   25  Female   50000\n"
     ]
    }
   ],
   "source": [
    "sorted_dataframe = df.sort_values(by='salary', ascending=False)\n",
    "print('Sorted Dataframe : \\n', sorted_dataframe)"
   ]
  }
 ],
 "metadata": {
  "kernelspec": {
   "display_name": "Python 3",
   "language": "python",
   "name": "python3"
  },
  "language_info": {
   "codemirror_mode": {
    "name": "ipython",
    "version": 3
   },
   "file_extension": ".py",
   "mimetype": "text/x-python",
   "name": "python",
   "nbconvert_exporter": "python",
   "pygments_lexer": "ipython3",
   "version": "3.12.6"
  }
 },
 "nbformat": 4,
 "nbformat_minor": 2
}
